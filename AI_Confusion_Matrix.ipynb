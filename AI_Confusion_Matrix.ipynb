{
  "nbformat": 4,
  "nbformat_minor": 0,
  "metadata": {
    "colab": {
      "provenance": [],
      "authorship_tag": "ABX9TyOdkcfQi6QIGJ4CeXjAFyqJ",
      "include_colab_link": true
    },
    "kernelspec": {
      "name": "python3",
      "display_name": "Python 3"
    },
    "language_info": {
      "name": "python"
    }
  },
  "cells": [
    {
      "cell_type": "markdown",
      "metadata": {
        "id": "view-in-github",
        "colab_type": "text"
      },
      "source": [
        "<a href=\"https://colab.research.google.com/github/FrancisBFTC/AI_Consusion_Matrix/blob/main/AI_Confusion_Matrix.ipynb\" target=\"_parent\"><img src=\"https://colab.research.google.com/assets/colab-badge.svg\" alt=\"Open In Colab\"/></a>"
      ]
    },
    {
      "cell_type": "code",
      "execution_count": null,
      "metadata": {
        "id": "JXoA9_oq-R-B"
      },
      "outputs": [],
      "source": [
        "!pip install -q tensorflow keras"
      ]
    },
    {
      "cell_type": "code",
      "source": [
        "from tensorflow.keras import datasets, layers, models\n",
        "import matplotlib.pyplot as plt\n",
        "import tensorflow as tf\n",
        "import numpy as np\n",
        "import seaborn as sns\n",
        "import pandas as pd"
      ],
      "metadata": {
        "id": "Exr1el27-xbq"
      },
      "execution_count": null,
      "outputs": []
    },
    {
      "cell_type": "code",
      "source": [
        "%load_ext tensorboard"
      ],
      "metadata": {
        "colab": {
          "base_uri": "https://localhost:8080/"
        },
        "id": "nUs4OQ3q_XF3",
        "outputId": "1d01f23d-4f28-4bac-d283-37414cf09dbb"
      },
      "execution_count": null,
      "outputs": [
        {
          "output_type": "stream",
          "name": "stdout",
          "text": [
            "The tensorboard extension is already loaded. To reload it, use:\n",
            "  %reload_ext tensorboard\n"
          ]
        }
      ]
    },
    {
      "cell_type": "code",
      "source": [
        "Logdir = 'log'"
      ],
      "metadata": {
        "id": "cbbmT9j1_c-X"
      },
      "execution_count": null,
      "outputs": []
    },
    {
      "cell_type": "code",
      "source": [
        "(train_images, train_labels), (test_images,test_labels) = datasets.mnist.load_data()\n",
        "train_images = train_images.reshape((60000, 28, 28, 1))\n",
        "test_images = test_images.reshape((10000, 28, 28, 1))\n",
        "train_images, test_images = train_images / 255.0, test_images / 255.0\n",
        "classes = [0,1,2,3,4,5,6,7,8,9]"
      ],
      "metadata": {
        "colab": {
          "base_uri": "https://localhost:8080/"
        },
        "id": "PnnzDhW3_gfe",
        "outputId": "59b1e647-1fd4-4e96-a1ec-288d4df4a4b4"
      },
      "execution_count": null,
      "outputs": [
        {
          "output_type": "stream",
          "name": "stdout",
          "text": [
            "Downloading data from https://storage.googleapis.com/tensorflow/tf-keras-datasets/mnist.npz\n",
            "\u001b[1m11490434/11490434\u001b[0m \u001b[32m━━━━━━━━━━━━━━━━━━━━\u001b[0m\u001b[37m\u001b[0m \u001b[1m0s\u001b[0m 0us/step\n"
          ]
        }
      ]
    },
    {
      "cell_type": "code",
      "source": [
        "model = models.Sequential()\n",
        "model.add(layers.Conv2D(32, (3, 3), activation='relu', input_shape=(28,28,1)))\n",
        "model.add(layers.MaxPooling2D((2,2)))\n",
        "model.add(layers.Conv2D(64, (3,3), activation='relu'))\n",
        "model.add(layers.MaxPooling2D(2,2))\n",
        "model.add(layers.Conv2D(64, (3,3), activation='relu'))\n",
        "model.add(layers.Flatten())\n",
        "model.add(layers.Dense(64, activation='relu'))\n",
        "model.add(layers.Dense(10, activation='softmax'))"
      ],
      "metadata": {
        "colab": {
          "base_uri": "https://localhost:8080/"
        },
        "id": "stByW-kCBLaC",
        "outputId": "99bdf84a-1805-4c04-c2ee-01dac817d6f8"
      },
      "execution_count": null,
      "outputs": [
        {
          "output_type": "stream",
          "name": "stderr",
          "text": [
            "/usr/local/lib/python3.11/dist-packages/keras/src/layers/convolutional/base_conv.py:107: UserWarning: Do not pass an `input_shape`/`input_dim` argument to a layer. When using Sequential models, prefer using an `Input(shape)` object as the first layer in the model instead.\n",
            "  super().__init__(activity_regularizer=activity_regularizer, **kwargs)\n"
          ]
        }
      ]
    },
    {
      "cell_type": "code",
      "source": [
        "tensorboad_callback = tf.keras.callbacks.TensorBoard(Logdir, histogram_freq=1)"
      ],
      "metadata": {
        "id": "8yC5rHVwDNnV"
      },
      "execution_count": null,
      "outputs": []
    },
    {
      "cell_type": "code",
      "source": [
        "model.compile(optimizer='adam',\n",
        "              loss='sparse_categorical_crossentropy',\n",
        "              metrics=['accuracy'])\n",
        "\n",
        "model.fit(x=train_images, y=train_labels,\n",
        "          epochs=5, validation_data=(test_images, test_labels))"
      ],
      "metadata": {
        "colab": {
          "base_uri": "https://localhost:8080/"
        },
        "id": "sWW-OXKcDdTZ",
        "outputId": "bda8aa86-6d8c-4f55-a453-665e39caeb49"
      },
      "execution_count": null,
      "outputs": [
        {
          "output_type": "stream",
          "name": "stdout",
          "text": [
            "Epoch 1/5\n",
            "\u001b[1m1875/1875\u001b[0m \u001b[32m━━━━━━━━━━━━━━━━━━━━\u001b[0m\u001b[37m\u001b[0m \u001b[1m52s\u001b[0m 27ms/step - accuracy: 0.8919 - loss: 0.3474 - val_accuracy: 0.9826 - val_loss: 0.0559\n",
            "Epoch 2/5\n",
            "\u001b[1m1875/1875\u001b[0m \u001b[32m━━━━━━━━━━━━━━━━━━━━\u001b[0m\u001b[37m\u001b[0m \u001b[1m81s\u001b[0m 27ms/step - accuracy: 0.9844 - loss: 0.0481 - val_accuracy: 0.9886 - val_loss: 0.0360\n",
            "Epoch 3/5\n",
            "\u001b[1m1875/1875\u001b[0m \u001b[32m━━━━━━━━━━━━━━━━━━━━\u001b[0m\u001b[37m\u001b[0m \u001b[1m52s\u001b[0m 28ms/step - accuracy: 0.9899 - loss: 0.0324 - val_accuracy: 0.9894 - val_loss: 0.0316\n",
            "Epoch 4/5\n",
            "\u001b[1m1875/1875\u001b[0m \u001b[32m━━━━━━━━━━━━━━━━━━━━\u001b[0m\u001b[37m\u001b[0m \u001b[1m79s\u001b[0m 26ms/step - accuracy: 0.9924 - loss: 0.0243 - val_accuracy: 0.9910 - val_loss: 0.0260\n",
            "Epoch 5/5\n",
            "\u001b[1m1875/1875\u001b[0m \u001b[32m━━━━━━━━━━━━━━━━━━━━\u001b[0m\u001b[37m\u001b[0m \u001b[1m85s\u001b[0m 28ms/step - accuracy: 0.9931 - loss: 0.0193 - val_accuracy: 0.9887 - val_loss: 0.0363\n"
          ]
        },
        {
          "output_type": "execute_result",
          "data": {
            "text/plain": [
              "<keras.src.callbacks.history.History at 0x7c9695796d10>"
            ]
          },
          "metadata": {},
          "execution_count": 31
        }
      ]
    },
    {
      "cell_type": "code",
      "source": [
        "y_true=test_labels\n",
        "y_pred=model.predict(test_images)"
      ],
      "metadata": {
        "colab": {
          "base_uri": "https://localhost:8080/"
        },
        "id": "axPRI7e8FfJS",
        "outputId": "23a294a1-7886-4015-da58-9d6d4360e462"
      },
      "execution_count": null,
      "outputs": [
        {
          "output_type": "stream",
          "name": "stdout",
          "text": [
            "\u001b[1m313/313\u001b[0m \u001b[32m━━━━━━━━━━━━━━━━━━━━\u001b[0m\u001b[37m\u001b[0m \u001b[1m2s\u001b[0m 7ms/step\n"
          ]
        }
      ]
    },
    {
      "cell_type": "code",
      "source": [
        "\n",
        "y_pred_labels = np.argmax(y_pred, axis=1)\n",
        "con_mat=tf.math.confusion_matrix(labels=y_true, predictions=y_pred_labels).numpy()\n",
        "con_mat_norm=np.around(con_mat.astype('float') / con_mat.sum(axis=1)[:, np.newaxis], decimals=2)\n",
        "con_mat_df=pd.DataFrame(con_mat_norm, index=classes, columns=classes)"
      ],
      "metadata": {
        "id": "YpLEnaFNFtEt"
      },
      "execution_count": null,
      "outputs": []
    },
    {
      "cell_type": "code",
      "source": [
        "figure = plt.figure(figsize=(8,8))\n",
        "sns.heatmap(con_mat_df, annot=True, cmap=plt.cm.Blues)\n",
        "plt.tight_layout()\n",
        "plt.ylabel('True Label')\n",
        "plt.xlabel('Predicted Label')\n",
        "plt.show()"
      ],
      "metadata": {
        "colab": {
          "base_uri": "https://localhost:8080/",
          "height": 359
        },
        "id": "0h9AFFT7HvKV",
        "outputId": "86cf53be-29d5-43cd-f881-bd5a45ec55e7"
      },
      "execution_count": null,
      "outputs": [
        {
          "output_type": "display_data",
          "data": {
            "text/plain": [
              "<Figure size 800x800 with 2 Axes>"
            ],
            "image/png": "[encoded data removed]"
          },
          "metadata": {}
        }
      ]
    },
    {
      "cell_type": "code",
      "source": [
        "\n",
        "from sklearn.metrics import confusion_matrix, roc_curve, auc\n",
        "from sklearn.preprocessing import label_binarize\n",
        "\n",
        "# Binarize the output\n",
        "y_true_bin = label_binarize(y_true, classes=classes)\n",
        "y_pred_bin = y_pred\n",
        "\n",
        "# Compute ROC curve and ROC area for each class\n",
        "fpr = dict()\n",
        "tpr = dict()\n",
        "roc_auc = dict()\n",
        "for i in range(len(classes)):\n",
        "    fpr[i], tpr[i], _ = roc_curve(y_true_bin[:, i], y_pred_bin[:, i])\n",
        "    roc_auc[i] = auc(fpr[i], tpr[i])\n",
        "\n",
        "# Compute micro-average ROC curve and ROC area\n",
        "fpr[\"micro\"], tpr[\"micro\"], _ = roc_curve(y_true_bin.ravel(), y_pred_bin.ravel())\n",
        "roc_auc[\"micro\"] = auc(fpr[\"micro\"], tpr[\"micro\"])\n",
        "\n",
        "# Now you can use fpr, tpr, and roc_auc to plot or analyze the ROC curves\n",
        "# ... (rest of your code to plot or analyze the ROC data) ...\n",
        "\n",
        "# Calculating the values of TP, TN, FP, FN for a specific class (e.g., class 1)\n",
        "VP = con_mat[1, 1]  # True Positive\n",
        "VN = np.sum(con_mat) - np.sum(con_mat[1, :]) - np.sum(con_mat[:, 1]) + con_mat[1, 1]  # True Negative\n",
        "FP = con_mat[:, 1].sum() - con_mat[1, 1]  # False Positive\n",
        "FN = con_mat[1, :].sum() - con_mat[1, 1]  # False Negative\n",
        "\n",
        "# Calculating metrics (for the specific class)\n",
        "P = VP + FP  # Total Positives (Positive Predictions)\n",
        "N = VN + FN  # Total Negatives (Negative Predictions)\n",
        "\n",
        "# Sensitivity (Recall)\n",
        "S = VP / (VP + FN)\n",
        "\n",
        "# Specificity\n",
        "E = VN / (VN + FP)\n",
        "\n",
        "# Accuracy\n",
        "A = (VP + VN) / (VP + VN + FP + FN)\n",
        "\n",
        "# Precision\n",
        "P_val = VP / (VP + FP)\n",
        "\n",
        "# F-Score (F1-Score)\n",
        "F = 2 * ((P_val * S) / (P_val + S))\n",
        "\n",
        "\n",
        "# Printing the results (for the specific class)\n",
        "print(f\"Sensitivity (S): {S}\")\n",
        "print(f\"Specificity (E): {E}\")\n",
        "print(f\"Accuracy (A): {A}\")\n",
        "print(f\"Precision (P): {P_val}\")\n",
        "print(f\"F-Score (F): {F}\")\n",
        "print(f\"AUC (ROC Curve - C): {roc_auc[1]}\") # AUC for class 1"
      ],
      "metadata": {
        "colab": {
          "base_uri": "https://localhost:8080/"
        },
        "id": "2IcG0E5uLmgO",
        "outputId": "bb867428-62f7-4834-8d49-c90830a7c586"
      },
      "execution_count": 45,
      "outputs": [
        {
          "output_type": "stream",
          "name": "stdout",
          "text": [
            "Sensitivity (S): 0.9991189427312775\n",
            "Specificity (E): 0.9987591652566272\n",
            "Accuracy (A): 0.9988\n",
            "Precision (P): 0.9903930131004367\n",
            "F-Score (F): 0.9947368421052631\n",
            "AUC (ROC Curve - C): 0.9999760976567256\n"
          ]
        }
      ]
    }
  ]
}